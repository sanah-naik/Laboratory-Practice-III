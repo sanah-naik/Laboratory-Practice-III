{
 "cells": [
  {
   "cell_type": "markdown",
   "id": "9f8a1c1c",
   "metadata": {},
   "source": [
    "# Implement Gradient Descent Algorithm to find the local minima of a function. For example, find the local minima of the function y=(x+3)2 starting from the point x=2.\n"
   ]
  },
  {
   "cell_type": "code",
   "execution_count": 1,
   "id": "25b61c58",
   "metadata": {},
   "outputs": [],
   "source": [
    "import numpy as np\n",
    "import sympy as sym\n",
    "import matplotlib.pyplot as plt"
   ]
  },
  {
   "cell_type": "code",
   "execution_count": 2,
   "id": "4ecc613f",
   "metadata": {},
   "outputs": [
    {
     "data": {
      "text/latex": [
       "$\\displaystyle 10.0$"
      ],
      "text/plain": [
       "10.0000000000000"
      ]
     },
     "execution_count": 2,
     "metadata": {},
     "output_type": "execute_result"
    }
   ],
   "source": [
    "x = sym.symbols('x')\n",
    "exp = ((x+3.0)**2.0)\n",
    "grad = sym.Derivative(exp,x).doit()\n",
    "grad.subs(x,2)"
   ]
  },
  {
   "cell_type": "code",
   "execution_count": 3,
   "id": "0066300e",
   "metadata": {},
   "outputs": [],
   "source": [
    "start = 2\n",
    "alpha = 0.1\n",
    "exp = ((x+3.0)**2.0)\n",
    "grad = sym.Derivative(exp,x).doit()\n",
    "max_iter = 1000"
   ]
  },
  {
   "cell_type": "code",
   "execution_count": 4,
   "id": "51befb17",
   "metadata": {},
   "outputs": [],
   "source": [
    "def gradient_descent(exp, start, alpha, max_iter):\n",
    "    precision = 0.000001\n",
    "    iter = 0\n",
    "    prev_step_size = 1\n",
    "    \n",
    "    x_list = list()\n",
    "    curr_x = start\n",
    "    x_list.append(curr_x)\n",
    "    \n",
    "    while prev_step_size > precision and iter < max_iter:\n",
    "        prev_x = curr_x\n",
    "        gradient = grad.subs(x,curr_x)\n",
    "        curr_x = curr_x - (alpha * gradient)\n",
    "        iter = iter + 1\n",
    "        prev_step_size = abs(curr_x - prev_x)\n",
    "        x_list.append(curr_x)\n",
    "        print(\"Iteration No : \", iter, \"\\n Value of X : \", curr_x)\n",
    "    \n",
    "    return x_list"
   ]
  },
  {
   "cell_type": "code",
   "execution_count": 5,
   "id": "1c3a53b7",
   "metadata": {},
   "outputs": [
    {
     "name": "stdout",
     "output_type": "stream",
     "text": [
      "Iteration No :  1 \n",
      " Value of X :  1.00000000000000\n",
      "Iteration No :  2 \n",
      " Value of X :  0.200000000000000\n",
      "Iteration No :  3 \n",
      " Value of X :  -0.440000000000000\n",
      "Iteration No :  4 \n",
      " Value of X :  -0.952000000000000\n",
      "Iteration No :  5 \n",
      " Value of X :  -1.36160000000000\n",
      "Iteration No :  6 \n",
      " Value of X :  -1.68928000000000\n",
      "Iteration No :  7 \n",
      " Value of X :  -1.95142400000000\n",
      "Iteration No :  8 \n",
      " Value of X :  -2.16113920000000\n",
      "Iteration No :  9 \n",
      " Value of X :  -2.32891136000000\n",
      "Iteration No :  10 \n",
      " Value of X :  -2.46312908800000\n",
      "Iteration No :  11 \n",
      " Value of X :  -2.57050327040000\n",
      "Iteration No :  12 \n",
      " Value of X :  -2.65640261632000\n",
      "Iteration No :  13 \n",
      " Value of X :  -2.72512209305600\n",
      "Iteration No :  14 \n",
      " Value of X :  -2.78009767444480\n",
      "Iteration No :  15 \n",
      " Value of X :  -2.82407813955584\n",
      "Iteration No :  16 \n",
      " Value of X :  -2.85926251164467\n",
      "Iteration No :  17 \n",
      " Value of X :  -2.88741000931574\n",
      "Iteration No :  18 \n",
      " Value of X :  -2.90992800745259\n",
      "Iteration No :  19 \n",
      " Value of X :  -2.92794240596207\n",
      "Iteration No :  20 \n",
      " Value of X :  -2.94235392476966\n",
      "Iteration No :  21 \n",
      " Value of X :  -2.95388313981573\n",
      "Iteration No :  22 \n",
      " Value of X :  -2.96310651185258\n",
      "Iteration No :  23 \n",
      " Value of X :  -2.97048520948206\n",
      "Iteration No :  24 \n",
      " Value of X :  -2.97638816758565\n",
      "Iteration No :  25 \n",
      " Value of X :  -2.98111053406852\n",
      "Iteration No :  26 \n",
      " Value of X :  -2.98488842725482\n",
      "Iteration No :  27 \n",
      " Value of X :  -2.98791074180385\n",
      "Iteration No :  28 \n",
      " Value of X :  -2.99032859344308\n",
      "Iteration No :  29 \n",
      " Value of X :  -2.99226287475447\n",
      "Iteration No :  30 \n",
      " Value of X :  -2.99381029980357\n",
      "Iteration No :  31 \n",
      " Value of X :  -2.99504823984286\n",
      "Iteration No :  32 \n",
      " Value of X :  -2.99603859187429\n",
      "Iteration No :  33 \n",
      " Value of X :  -2.99683087349943\n",
      "Iteration No :  34 \n",
      " Value of X :  -2.99746469879954\n",
      "Iteration No :  35 \n",
      " Value of X :  -2.99797175903963\n",
      "Iteration No :  36 \n",
      " Value of X :  -2.99837740723171\n",
      "Iteration No :  37 \n",
      " Value of X :  -2.99870192578537\n",
      "Iteration No :  38 \n",
      " Value of X :  -2.99896154062829\n",
      "Iteration No :  39 \n",
      " Value of X :  -2.99916923250263\n",
      "Iteration No :  40 \n",
      " Value of X :  -2.99933538600211\n",
      "Iteration No :  41 \n",
      " Value of X :  -2.99946830880169\n",
      "Iteration No :  42 \n",
      " Value of X :  -2.99957464704135\n",
      "Iteration No :  43 \n",
      " Value of X :  -2.99965971763308\n",
      "Iteration No :  44 \n",
      " Value of X :  -2.99972777410646\n",
      "Iteration No :  45 \n",
      " Value of X :  -2.99978221928517\n",
      "Iteration No :  46 \n",
      " Value of X :  -2.99982577542814\n",
      "Iteration No :  47 \n",
      " Value of X :  -2.99986062034251\n",
      "Iteration No :  48 \n",
      " Value of X :  -2.99988849627401\n",
      "Iteration No :  49 \n",
      " Value of X :  -2.99991079701921\n",
      "Iteration No :  50 \n",
      " Value of X :  -2.99992863761536\n",
      "Iteration No :  51 \n",
      " Value of X :  -2.99994291009229\n",
      "Iteration No :  52 \n",
      " Value of X :  -2.99995432807383\n",
      "Iteration No :  53 \n",
      " Value of X :  -2.99996346245907\n",
      "Iteration No :  54 \n",
      " Value of X :  -2.99997076996725\n",
      "Iteration No :  55 \n",
      " Value of X :  -2.99997661597380\n",
      "Iteration No :  56 \n",
      " Value of X :  -2.99998129277904\n",
      "Iteration No :  57 \n",
      " Value of X :  -2.99998503422323\n",
      "Iteration No :  58 \n",
      " Value of X :  -2.99998802737859\n",
      "Iteration No :  59 \n",
      " Value of X :  -2.99999042190287\n",
      "Iteration No :  60 \n",
      " Value of X :  -2.99999233752230\n",
      "Iteration No :  61 \n",
      " Value of X :  -2.99999387001784\n",
      "Iteration No :  62 \n",
      " Value of X :  -2.99999509601427\n",
      "Iteration No :  63 \n",
      " Value of X :  -2.99999607681142\n"
     ]
    }
   ],
   "source": [
    "X = gradient_descent(exp, start, alpha, max_iter)"
   ]
  },
  {
   "cell_type": "code",
   "execution_count": 6,
   "id": "6aebfe7c",
   "metadata": {},
   "outputs": [
    {
     "name": "stdout",
     "output_type": "stream",
     "text": [
      "The local minima occurs at :  -2.99999607681142\n"
     ]
    }
   ],
   "source": [
    "print(\"The local minima occurs at : \", X[len(X)-1])"
   ]
  },
  {
   "cell_type": "code",
   "execution_count": 7,
   "id": "9ec6c147",
   "metadata": {},
   "outputs": [],
   "source": [
    "def objective(x):\n",
    "    return (x+3)**2"
   ]
  },
  {
   "cell_type": "code",
   "execution_count": 8,
   "id": "a40aafdc",
   "metadata": {},
   "outputs": [
    {
     "data": {
      "text/plain": [
       "[<matplotlib.lines.Line2D at 0x10f858040>]"
      ]
     },
     "execution_count": 8,
     "metadata": {},
     "output_type": "execute_result"
    },
    {
     "data": {
      "image/png": "[encoded data removed]",
      "text/plain": [
       "<Figure size 640x480 with 1 Axes>"
      ]
     },
     "metadata": {},
     "output_type": "display_data"
    }
   ],
   "source": [
    "x_cord = np.linspace(-4,4,10)\n",
    "plt.plot(x_cord, objective(x_cord))\n",
    "\n",
    "x_arr = np.array(X)\n",
    "plt.plot(x_arr, objective(x_arr), '.-', c = \"r\")"
   ]
  }
 ],
 "metadata": {
  "kernelspec": {
   "display_name": "Python 3 (ipykernel)",
   "language": "python",
   "name": "python3"
  },
  "language_info": {
   "codemirror_mode": {
    "name": "ipython",
    "version": 3
   },
   "file_extension": ".py",
   "mimetype": "text/x-python",
   "name": "python",
   "nbconvert_exporter": "python",
   "pygments_lexer": "ipython3",
   "version": "3.10.8"
  }
 },
 "nbformat": 4,
 "nbformat_minor": 5
}
