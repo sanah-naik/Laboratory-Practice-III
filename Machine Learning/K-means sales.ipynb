{
 "cells": [
  {
   "cell_type": "markdown",
   "id": "eb8364ae",
   "metadata": {},
   "source": [
    "# Implement K-Means clustering/ hierarchical clustering on sales_data_sample.csv dataset. Determine the number of clusters using the elbow method. "
   ]
  },
  {
   "cell_type": "code",
   "execution_count": null,
   "id": "85ac053b",
   "metadata": {},
   "outputs": [],
   "source": [
    "import pandas as pd\n",
    "import numpy as np\n",
    "import seaborn as sns\n",
    "import matplotlib.pyplot as plt"
   ]
  },
  {
   "cell_type": "code",
   "execution_count": null,
   "id": "24bef234",
   "metadata": {},
   "outputs": [],
   "source": [
    "df = pd.read_csv(\"sales_data_sample.csv\", encoding = 'latin-1')\n",
    "df"
   ]
  },
  {
   "cell_type": "code",
   "execution_count": null,
   "id": "6de9ff39",
   "metadata": {},
   "outputs": [],
   "source": [
    "df.isnull().sum()"
   ]
  },
  {
   "cell_type": "code",
   "execution_count": null,
   "id": "5e810ee8",
   "metadata": {},
   "outputs": [],
   "source": [
    "df.shape"
   ]
  },
  {
   "cell_type": "code",
   "execution_count": null,
   "id": "d40232c2",
   "metadata": {},
   "outputs": [],
   "source": [
    "df.drop(['ADDRESSLINE1',\"ADDRESSLINE2\",\"STATE\",\"TERRITORY\", \"CONTACTFIRSTNAME\", \"CONTACTLASTNAME\", \"QTR_ID\", \"CUSTOMERNAME\"], axis = 1,inplace = True)"
   ]
  },
  {
   "cell_type": "code",
   "execution_count": null,
   "id": "66a353fa",
   "metadata": {},
   "outputs": [],
   "source": [
    "df.drop(['PHONE', 'YEAR_ID', 'ORDERDATE'], axis = 1, inplace = True)\n",
    "df.info()"
   ]
  },
  {
   "cell_type": "code",
   "execution_count": null,
   "id": "55b5c454",
   "metadata": {},
   "outputs": [],
   "source": [
    "df.describe()"
   ]
  },
  {
   "cell_type": "code",
   "execution_count": null,
   "id": "aa572160",
   "metadata": {},
   "outputs": [],
   "source": [
    "df.drop('ORDERNUMBER', inplace = True, axis = 1)"
   ]
  },
  {
   "cell_type": "code",
   "execution_count": null,
   "id": "76301b7b",
   "metadata": {},
   "outputs": [],
   "source": [
    "df.describe()"
   ]
  },
  {
   "cell_type": "code",
   "execution_count": null,
   "id": "c21b22f7",
   "metadata": {},
   "outputs": [],
   "source": [
    "df.shape"
   ]
  },
  {
   "cell_type": "code",
   "execution_count": null,
   "id": "769c52aa",
   "metadata": {},
   "outputs": [],
   "source": [
    "cat_list = df.select_dtypes(include=object).columns.to_list()"
   ]
  },
  {
   "cell_type": "code",
   "execution_count": null,
   "id": "23129a56",
   "metadata": {},
   "outputs": [],
   "source": [
    "cat_list"
   ]
  },
  {
   "cell_type": "code",
   "execution_count": null,
   "id": "3d363bd2",
   "metadata": {},
   "outputs": [],
   "source": [
    "from sklearn.preprocessing import LabelEncoder\n",
    "le = LabelEncoder()"
   ]
  },
  {
   "cell_type": "code",
   "execution_count": null,
   "id": "7ee07a41",
   "metadata": {},
   "outputs": [],
   "source": [
    "df[cat_list].nunique()"
   ]
  },
  {
   "cell_type": "code",
   "execution_count": null,
   "id": "c999b555",
   "metadata": {},
   "outputs": [],
   "source": [
    "for i in cat_list:\n",
    "    df[i] = le.fit_transform(df[i])"
   ]
  },
  {
   "cell_type": "code",
   "execution_count": null,
   "id": "c9555276",
   "metadata": {},
   "outputs": [],
   "source": [
    "X = df[['SALES','PRODUCTCODE']]"
   ]
  },
  {
   "cell_type": "code",
   "execution_count": null,
   "id": "139ef443",
   "metadata": {},
   "outputs": [],
   "source": [
    "X.head()"
   ]
  },
  {
   "cell_type": "code",
   "execution_count": null,
   "id": "2d9b9425",
   "metadata": {},
   "outputs": [],
   "source": [
    "import warnings\n",
    "\n",
    "warnings.filterwarnings('ignore', category=FutureWarning, module='sklearn.cluster._kmeans')\n",
    "from yellowbrick.cluster import KElbowVisualizer\n",
    "from sklearn.cluster import KMeans\n",
    "\n",
    "visualizer = KElbowVisualizer(KMeans(), k = (1,12)).fit(X)\n",
    "visualizer.show()"
   ]
  },
  {
   "cell_type": "code",
   "execution_count": null,
   "id": "fc8bb68b",
   "metadata": {},
   "outputs": [],
   "source": [
    "kmeans_model = KMeans(n_clusters = 3, init = \"k-means++\").fit(X)"
   ]
  },
  {
   "cell_type": "code",
   "execution_count": null,
   "id": "d5b0fa16",
   "metadata": {},
   "outputs": [],
   "source": [
    "kmeans_model.labels_"
   ]
  },
  {
   "cell_type": "code",
   "execution_count": null,
   "id": "44fda460",
   "metadata": {},
   "outputs": [],
   "source": [
    "kmeans_model.cluster_centers_"
   ]
  },
  {
   "cell_type": "code",
   "execution_count": null,
   "id": "62f1365e",
   "metadata": {},
   "outputs": [],
   "source": [
    "from collections import Counter\n",
    "Counter(kmeans_model.labels_)"
   ]
  },
  {
   "cell_type": "code",
   "execution_count": null,
   "id": "478220cf",
   "metadata": {},
   "outputs": [],
   "source": [
    "sns.scatterplot(data = X, x = 'SALES', y = 'PRODUCTCODE',hue = kmeans_model.labels_)\n",
    "plt.scatter(kmeans_model.cluster_centers_[:,0], kmeans_model.cluster_centers_[:,1],c = \"r\", label = \"centroids\", marker = \"X\")\n",
    "plt.legend()\n",
    "plt.show()"
   ]
  }
 ],
 "metadata": {
  "kernelspec": {
   "display_name": "Python 3 (ipykernel)",
   "language": "python",
   "name": "python3"
  },
  "language_info": {
   "codemirror_mode": {
    "name": "ipython",
    "version": 3
   },
   "file_extension": ".py",
   "mimetype": "text/x-python",
   "name": "python",
   "nbconvert_exporter": "python",
   "pygments_lexer": "ipython3",
   "version": "3.10.8"
  }
 },
 "nbformat": 4,
 "nbformat_minor": 5
}
