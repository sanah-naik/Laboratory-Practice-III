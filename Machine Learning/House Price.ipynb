{
 "cells": [
  {
   "cell_type": "markdown",
   "id": "f8284d3d",
   "metadata": {},
   "source": [
    "# Predict the house price \n",
    "Perform following tasks:\n",
    "1. Pre-process the dataset.\n",
    "2. Identify outliers.\n",
    "3. Check the correlation.\n",
    "4. Implement linear regression \n",
    "5. Evaluate the models and compare their respective scores like R2, RMSE, etc.\n"
   ]
  },
  {
   "cell_type": "code",
   "execution_count": null,
   "id": "db406421",
   "metadata": {},
   "outputs": [],
   "source": [
    "import numpy as np\n",
    "import pandas as pd\n",
    "import matplotlib.pyplot as plt\n",
    "import seaborn as sns"
   ]
  },
  {
   "cell_type": "code",
   "execution_count": null,
   "id": "458304da",
   "metadata": {},
   "outputs": [],
   "source": [
    "df = pd.read_csv(\"House_Rent_Dataset.csv\")"
   ]
  },
  {
   "cell_type": "code",
   "execution_count": null,
   "id": "d4d48b86",
   "metadata": {},
   "outputs": [],
   "source": [
    "df.head()"
   ]
  },
  {
   "cell_type": "code",
   "execution_count": null,
   "id": "1d28dfca",
   "metadata": {},
   "outputs": [],
   "source": [
    "df.info()"
   ]
  },
  {
   "cell_type": "code",
   "execution_count": null,
   "id": "070f86ba",
   "metadata": {},
   "outputs": [],
   "source": [
    "df.shape"
   ]
  },
  {
   "cell_type": "code",
   "execution_count": null,
   "id": "2d70a090",
   "metadata": {},
   "outputs": [],
   "source": [
    "df.isnull().sum()\n"
   ]
  },
  {
   "cell_type": "code",
   "execution_count": null,
   "id": "a49d8222",
   "metadata": {},
   "outputs": [],
   "source": [
    "df.drop(labels='Posted On',axis=1,inplace=True)\n",
    "df.drop(labels='Point of Contact',axis=1,inplace=True)\n",
    "df.drop([\"Area Locality\"], axis=\"columns\", inplace=True)"
   ]
  },
  {
   "cell_type": "code",
   "execution_count": null,
   "id": "b359a083",
   "metadata": {},
   "outputs": [],
   "source": [
    "df[\"Floor Number\"]=df[\"Floor\"].apply(lambda x:str(x).split()[0])"
   ]
  },
  {
   "cell_type": "code",
   "execution_count": null,
   "id": "5d9c5dc9",
   "metadata": {},
   "outputs": [],
   "source": [
    "df[\"Total Floor\"]=df[\"Floor\"].apply(lambda x:str(x).split()[-1])"
   ]
  },
  {
   "cell_type": "code",
   "execution_count": null,
   "id": "09f60d99",
   "metadata": {},
   "outputs": [],
   "source": [
    "del df['Floor']"
   ]
  },
  {
   "cell_type": "code",
   "execution_count": null,
   "id": "d3eb4a91",
   "metadata": {},
   "outputs": [],
   "source": [
    "df['Floor Number'].value_counts()"
   ]
  },
  {
   "cell_type": "code",
   "execution_count": null,
   "id": "59394324",
   "metadata": {},
   "outputs": [],
   "source": [
    "df[\"Floor Number\"] = df[\"Floor Number\"].replace(['Ground'],0)\n",
    "df[\"Floor Number\"] = df[\"Floor Number\"].replace(['Upper'],-1)"
   ]
  },
  {
   "cell_type": "code",
   "execution_count": null,
   "id": "5842a66e",
   "metadata": {},
   "outputs": [],
   "source": [
    "df[\"Floor Number\"] = df[\"Floor Number\"].replace(['Lower'],-2)"
   ]
  },
  {
   "cell_type": "code",
   "execution_count": null,
   "id": "2865e1e3",
   "metadata": {},
   "outputs": [],
   "source": [
    "df[\"Floor Number\"].value_counts()\n"
   ]
  },
  {
   "cell_type": "code",
   "execution_count": null,
   "id": "68f384a8",
   "metadata": {},
   "outputs": [],
   "source": [
    "df[\"Total Floor\"].value_counts()\n"
   ]
  },
  {
   "cell_type": "code",
   "execution_count": null,
   "id": "77a55c1d",
   "metadata": {},
   "outputs": [],
   "source": [
    "df[\"Total Floor\"] = df[\"Total Floor\"].replace(['Ground'],1)"
   ]
  },
  {
   "cell_type": "code",
   "execution_count": null,
   "id": "a959686e",
   "metadata": {},
   "outputs": [],
   "source": [
    "df[\"Total Floor\"].value_counts()\n"
   ]
  },
  {
   "cell_type": "code",
   "execution_count": null,
   "id": "c6197427",
   "metadata": {},
   "outputs": [],
   "source": [
    "df[\"Area Type\"].unique()\n"
   ]
  },
  {
   "cell_type": "code",
   "execution_count": null,
   "id": "97b751f0",
   "metadata": {},
   "outputs": [],
   "source": [
    "from sklearn import preprocessing\n",
    "label_encoder = preprocessing.LabelEncoder()\n",
    "df['Area Type'] = label_encoder.fit_transform(df['Area Type'])\n",
    "df['Area Type'].unique()"
   ]
  },
  {
   "cell_type": "code",
   "execution_count": null,
   "id": "c0992426",
   "metadata": {},
   "outputs": [],
   "source": [
    "label_encoder = preprocessing.LabelEncoder()\n",
    "df[\"Furnishing Status\"]= label_encoder.fit_transform(df[\"Furnishing Status\"])  \n",
    "df[\"Furnishing Status\"].unique()"
   ]
  },
  {
   "cell_type": "code",
   "execution_count": null,
   "id": "3fe6eb8e",
   "metadata": {},
   "outputs": [],
   "source": [
    "label_encoder = preprocessing.LabelEncoder()\n",
    "  \n",
    "# Encode labels in column \"Area Type\".\n",
    "df[\"Tenant Preferred\"]= label_encoder.fit_transform(df[\"Tenant Preferred\"])\n",
    "  \n",
    "df[\"Tenant Preferred\"].unique()"
   ]
  },
  {
   "cell_type": "code",
   "execution_count": null,
   "id": "629ff277",
   "metadata": {},
   "outputs": [],
   "source": [
    "label_encoder = preprocessing.LabelEncoder()\n",
    "  \n",
    "# Encode labels in column \"Area Type\".\n",
    "df['City']= label_encoder.fit_transform(df['City'])\n",
    "  \n",
    "df['City'].unique()"
   ]
  },
  {
   "cell_type": "code",
   "execution_count": null,
   "id": "2bd5fce7",
   "metadata": {},
   "outputs": [],
   "source": [
    "from sklearn.preprocessing import minmax_scale\n",
    "\n",
    "df[\"Rent\"] = minmax_scale(df[\"Rent\"])\n",
    "df[\"Size\"] = minmax_scale(df[\"Size\"])"
   ]
  },
  {
   "cell_type": "code",
   "execution_count": null,
   "id": "2d69707e",
   "metadata": {},
   "outputs": [],
   "source": [
    "df.head()"
   ]
  },
  {
   "cell_type": "code",
   "execution_count": null,
   "id": "06b55d47",
   "metadata": {},
   "outputs": [],
   "source": [
    "fig, ax = plt.subplots(figsize=(10, 10))\n",
    "sns.heatmap(df.corr(), annot = True)"
   ]
  },
  {
   "cell_type": "code",
   "execution_count": null,
   "id": "a817fe8e",
   "metadata": {},
   "outputs": [],
   "source": [
    "def find_outliers_IQR(df):\n",
    "   q1 = df.quantile(0.25)\n",
    "   q3 = df.quantile(0.75)\n",
    "   IQR = q3-q1\n",
    "   outliers = df[((df<(q1-1.5*IQR)) | (df>(q3+1.5*IQR)))]\n",
    "   return outliers"
   ]
  },
  {
   "cell_type": "code",
   "execution_count": null,
   "id": "dc0b8f0e",
   "metadata": {},
   "outputs": [],
   "source": [
    "outliers = find_outliers_IQR(df[\"Size\"])\n",
    "print(\"number of outliers: \"+ str(len(outliers)))\n",
    "print(\"max outlier value: \"+ str(outliers.max()))\n",
    "print(\"min outlier value: \"+ str(outliers.min()))\n",
    "outliers"
   ]
  },
  {
   "cell_type": "code",
   "execution_count": null,
   "id": "01fe89ed",
   "metadata": {},
   "outputs": [],
   "source": [
    "x = df.drop(\"Rent\", axis = 1)\n",
    "x"
   ]
  },
  {
   "cell_type": "code",
   "execution_count": null,
   "id": "483224f4",
   "metadata": {},
   "outputs": [],
   "source": [
    "y = df['Rent']\n",
    "y"
   ]
  },
  {
   "cell_type": "code",
   "execution_count": null,
   "id": "f2efedc8",
   "metadata": {},
   "outputs": [],
   "source": [
    "from sklearn.model_selection import train_test_split\n",
    "\n",
    "x_train, x_test, y_train, y_test = train_test_split(x, y, random_state = 101, test_size = 0.2)"
   ]
  },
  {
   "cell_type": "code",
   "execution_count": null,
   "id": "230bb103",
   "metadata": {},
   "outputs": [],
   "source": [
    "x.head()\n"
   ]
  },
  {
   "cell_type": "code",
   "execution_count": null,
   "id": "8090e602",
   "metadata": {},
   "outputs": [],
   "source": [
    "from sklearn.linear_model import LinearRegression\n",
    "lr = LinearRegression()\n",
    "lr.fit(x_train, y_train)"
   ]
  },
  {
   "cell_type": "code",
   "execution_count": null,
   "id": "2bfc37d0",
   "metadata": {},
   "outputs": [],
   "source": [
    "pred = lr.predict(x_test)\n"
   ]
  },
  {
   "cell_type": "code",
   "execution_count": null,
   "id": "0dcb9da6",
   "metadata": {},
   "outputs": [],
   "source": [
    "actual = y_test\n"
   ]
  },
  {
   "cell_type": "code",
   "execution_count": null,
   "id": "28859036",
   "metadata": {},
   "outputs": [],
   "source": [
    "base = pd.DataFrame()\n",
    "base['actual'] = actual\n",
    "base['predictions'] = pred"
   ]
  },
  {
   "cell_type": "code",
   "execution_count": null,
   "id": "a8678e28",
   "metadata": {},
   "outputs": [],
   "source": [
    "base"
   ]
  },
  {
   "cell_type": "code",
   "execution_count": null,
   "id": "275174e6",
   "metadata": {},
   "outputs": [],
   "source": [
    "from sklearn.metrics import r2_score\n",
    "r2_score(y_test, pred)"
   ]
  },
  {
   "cell_type": "code",
   "execution_count": null,
   "id": "555884e0",
   "metadata": {},
   "outputs": [],
   "source": [
    "from sklearn.metrics import mean_squared_error\n",
    "np.sqrt(mean_squared_error(y_test, pred))"
   ]
  }
 ],
 "metadata": {
  "kernelspec": {
   "display_name": "Python 3 (ipykernel)",
   "language": "python",
   "name": "python3"
  },
  "language_info": {
   "codemirror_mode": {
    "name": "ipython",
    "version": 3
   },
   "file_extension": ".py",
   "mimetype": "text/x-python",
   "name": "python",
   "nbconvert_exporter": "python",
   "pygments_lexer": "ipython3",
   "version": "3.10.8"
  }
 },
 "nbformat": 4,
 "nbformat_minor": 5
}
